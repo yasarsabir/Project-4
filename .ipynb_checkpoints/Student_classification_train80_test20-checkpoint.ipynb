{
 "cells": [
  {
   "cell_type": "markdown",
   "metadata": {
    "colab_type": "text",
    "id": "view-in-github"
   },
   "source": [
    "<a href=\"https://colab.research.google.com/github/yasarsabir/Project-4/blob/main/Student_classification_train80_test20.ipynb\" target=\"_parent\"><img src=\"https://colab.research.google.com/assets/colab-badge.svg\" alt=\"Open In Colab\"/></a>"
   ]
  },
  {
   "cell_type": "code",
   "execution_count": null,
   "metadata": {
    "id": "A5OAupFb66Xo"
   },
   "outputs": [],
   "source": [
    "# Import the modules\n",
    "import numpy as np\n",
    "import pandas as pd\n",
    "import matplotlib.pyplot as plt\n",
    "from pathlib import Path\n",
    "from sklearn.metrics import balanced_accuracy_score, confusion_matrix, classification_report"
   ]
  },
  {
   "cell_type": "code",
   "execution_count": null,
   "metadata": {
    "colab": {
     "base_uri": "https://localhost:8080/"
    },
    "id": "x6azSxsIgwHD",
    "outputId": "b68f3795-aeb6-4eca-b7bf-0aadf11952af"
   },
   "outputs": [],
   "source": [
    "pip install csv_to_sqlite"
   ]
  },
  {
   "cell_type": "code",
   "execution_count": null,
   "metadata": {
    "colab": {
     "base_uri": "https://localhost:8080/"
    },
    "id": "oK3C7Yaf_hM1",
    "outputId": "0ea7fb97-1d8a-443c-b544-595272d69e03"
   },
   "outputs": [],
   "source": [
    "import csv_to_sqlite\n",
    "\n",
    "# all the usual options are supported\n",
    "options = csv_to_sqlite.CsvOptions(typing_style=\"full\")#, encoding=\"windows-1250\")\n",
    "input_files = [\"datacleaned.csv\"] # pass in a list of CSV files\n",
    "csv_to_sqlite.write_csv(input_files, \"students.sqlite\", options)\n",
    "\n"
   ]
  },
  {
   "cell_type": "markdown",
   "metadata": {
    "id": "KNokCdQHH06W"
   },
   "source": []
  },
  {
   "cell_type": "markdown",
   "metadata": {
    "id": "dHdMBzWe66Xr"
   },
   "source": [
    "---"
   ]
  },
  {
   "cell_type": "markdown",
   "metadata": {
    "id": "uHx3iYReHkbG"
   },
   "source": [
    "### Demonstrate that the model utilizes data retrieved from SQL or Spark"
   ]
  },
  {
   "cell_type": "code",
   "execution_count": null,
   "metadata": {
    "colab": {
     "base_uri": "https://localhost:8080/",
     "height": 307
    },
    "id": "WdUgnqh0AyBV",
    "outputId": "575974ac-aebc-425e-f018-567360eeb7a7"
   },
   "outputs": [],
   "source": [
    "import sqlite3\n",
    "con = sqlite3.connect(\"students.sqlite\")\n",
    "cur = con.cursor()\n",
    "sqlresult= cur.execute(\"SELECT * FROM 'datacleaned'\").fetchall()\n",
    "\n",
    "Headers = ['Marital status','Course','Day_evening attendance','Previous qualification','Nationality','Mothers qualification','Fathers qualification','Mothers occupation','Fathers occupation','Displaced','Educational special needs','Debtor','Tuition fees up to date','Gender','Scholarship holder','Age at enrollment','International','Curricular units 1st sem (credited)','Curricular units 1st sem (enrolled)','Curricular units 1st sem (evaluations)','Curricular units 1st sem (approved)','Curricular units 1st sem (grade)','Curricular units 1st sem (without evaluations)','Curricular units 2nd sem (credited)','Curricular units 2nd sem (enrolled)','Curricular units 2nd sem (evaluations)','Curricular units 2nd sem (approved)','Curricular units 2nd sem (grade)','Curricular units 2nd sem (without evaluations)','Unemployment rate','Inflation rate','GDP','Target']\n",
    "student_data_df = pd.DataFrame(sqlresult, columns = Headers)\n",
    "student_data_df.head()"
   ]
  },
  {
   "cell_type": "markdown",
   "metadata": {
    "id": "5bAGdOyG66Xs"
   },
   "source": [
    "## Split the Data into Training and Testing Sets"
   ]
  },
  {
   "cell_type": "markdown",
   "metadata": {
    "id": "grYCPCFh66Xt"
   },
   "source": [
    "### Step 1: Read the `student_data.csv` data from the folder into a Pandas DataFrame."
   ]
  },
  {
   "cell_type": "code",
   "execution_count": null,
   "metadata": {
    "colab": {
     "base_uri": "https://localhost:8080/",
     "height": 307
    },
    "id": "VKOwbaLS66Xt",
    "outputId": "cae96f41-e5b7-422d-9af9-d09161ad0d3e"
   },
   "outputs": [],
   "source": [
    "#Read the CSV file from the Resources folder into a Pandas DataFrame\n",
    "student_data_df = pd.read_csv(\n",
    "    Path(\"datacleaned.csv\")\n",
    ")\n",
    "\n",
    "# Review the DataFrame\n",
    "student_data_df.head()"
   ]
  },
  {
   "cell_type": "code",
   "execution_count": null,
   "metadata": {
    "colab": {
     "base_uri": "https://localhost:8080/",
     "height": 307
    },
    "id": "jinI2CfW73Xq",
    "outputId": "dd134b9f-4747-473d-d731-6c27a01a368c"
   },
   "outputs": [],
   "source": [
    "student_data_df=student_data_df.replace({'Target' : { 'Graduate' : 0, 'Dropout' : 1}})\n",
    "student_data_df.head()"
   ]
  },
  {
   "cell_type": "markdown",
   "metadata": {
    "id": "2jkdYyYg66Xu"
   },
   "source": [
    "### Step 2: Create the labels set (`y`)  from the “Target” column, and then create the features (`X`) DataFrame from the remaining columns."
   ]
  },
  {
   "cell_type": "code",
   "execution_count": null,
   "metadata": {
    "id": "f0VVCQq866Xv"
   },
   "outputs": [],
   "source": [
    "# Separate the data into labels and features\n",
    "\n",
    "# Separate the y variable, the labels\n",
    "y = student_data_df['Target']\n",
    "\n",
    "\n",
    "# Separate the X variable, the features\n",
    "X = student_data_df.drop(columns=['Target'])"
   ]
  },
  {
   "cell_type": "code",
   "execution_count": null,
   "metadata": {
    "colab": {
     "base_uri": "https://localhost:8080/",
     "height": 234
    },
    "id": "wiBFexw366Xv",
    "outputId": "7b4d3404-8806-4b47-f4b5-9bdb579c0359"
   },
   "outputs": [],
   "source": [
    "# Review the y variable Series\n",
    "#y[:5]\n",
    "\n",
    "display(y.head())\n",
    "display(y.tail())"
   ]
  },
  {
   "cell_type": "code",
   "execution_count": null,
   "metadata": {
    "colab": {
     "base_uri": "https://localhost:8080/",
     "height": 307
    },
    "id": "5SSbonwa66Xv",
    "outputId": "c9868d8a-9930-414f-87bd-debe2b06ed8e"
   },
   "outputs": [],
   "source": [
    "# Review the X variable DataFrame\n",
    "X[:5]\n"
   ]
  },
  {
   "cell_type": "markdown",
   "metadata": {
    "id": "2bwi9biC66Xv"
   },
   "source": [
    "### Step 3: Check the balance of the labels variable (`y`) by using the `value_counts` function."
   ]
  },
  {
   "cell_type": "code",
   "execution_count": null,
   "metadata": {
    "colab": {
     "base_uri": "https://localhost:8080/"
    },
    "id": "EluiWFyK66Xw",
    "outputId": "96c9abde-5d94-4f84-f039-3b1b81554158"
   },
   "outputs": [],
   "source": [
    "# Check the balance of our target values\n",
    "\n",
    "y.value_counts()\n",
    "# therefore 2209 Graduates, 1421 dropouts, as you can see data is slightly imabalanced"
   ]
  },
  {
   "cell_type": "markdown",
   "metadata": {
    "id": "Mt2ALekh66Xw"
   },
   "source": [
    "### Step 4: Split the data into training and testing datasets by using `train_test_split`."
   ]
  },
  {
   "cell_type": "code",
   "execution_count": null,
   "metadata": {
    "id": "gSRvDbhg66Xw"
   },
   "outputs": [],
   "source": [
    "# Import the train_test_learn module\n",
    "from sklearn.model_selection import train_test_split\n",
    "\n",
    "# Split the data using train_test_split\n",
    "# Assign a random_state of 1 to the function\n",
    "X_train, X_test, y_train, y_test = train_test_split(X,\n",
    "                                                    y,\n",
    "                                                    random_state=1,\n",
    "                                                    stratify=y,\n",
    "                                                    test_size= 0.2)\n",
    "\n",
    "#set to 80% to train, 20% to test, specify the amount you wish to test\n"
   ]
  },
  {
   "cell_type": "markdown",
   "metadata": {
    "id": "XIknSFeM66Xw"
   },
   "source": [
    "---"
   ]
  },
  {
   "cell_type": "markdown",
   "metadata": {
    "id": "El8tovmX66Xw"
   },
   "source": [
    "## Create a Logistic Regression Model with the Original Data"
   ]
  },
  {
   "cell_type": "markdown",
   "metadata": {
    "id": "H60Z9n6y66Xx"
   },
   "source": [
    "###  Step 1: Fit a logistic regression model by using the training data (`X_train` and `y_train`)."
   ]
  },
  {
   "cell_type": "code",
   "execution_count": null,
   "metadata": {
    "colab": {
     "base_uri": "https://localhost:8080/",
     "height": 239
    },
    "id": "4HMItOKK66Xx",
    "outputId": "e2e06f0a-563c-4b58-e843-0de82559221c"
   },
   "outputs": [],
   "source": [
    "# Import the LogisticRegression module from SKLearn\n",
    "from sklearn.linear_model import LogisticRegression\n",
    "\n",
    "# Instantiate the Logistic Regression model\n",
    "# Assign a random_state parameter of 1 to the model\n",
    "classifier = LogisticRegression(solver='lbfgs', random_state=1)\n",
    "classifier\n",
    "\n",
    "# Fit the model using training data\n",
    "classifier.fit(X_train, y_train)"
   ]
  },
  {
   "cell_type": "markdown",
   "metadata": {
    "id": "KC39EtX866Xx"
   },
   "source": [
    "### Step 2: Save the predictions on the testing data labels by using the testing feature data (`X_test`) and the fitted model."
   ]
  },
  {
   "cell_type": "code",
   "execution_count": null,
   "metadata": {
    "colab": {
     "base_uri": "https://localhost:8080/",
     "height": 423
    },
    "id": "4A9tbc2L66Xx",
    "outputId": "c01f0078-ebd5-4856-89c3-c50f302be96a"
   },
   "outputs": [],
   "source": [
    "# Make a prediction using the testing data\n",
    "predictions = classifier.predict(X_test)\n",
    "pd.DataFrame({\"Prediction\": predictions, \"Actual\": y_test})"
   ]
  },
  {
   "cell_type": "markdown",
   "metadata": {
    "id": "WXpzfsSj66Xz"
   },
   "source": [
    "### Step 3: Evaluate the model’s performance by doing the following:\n",
    "\n",
    "* Calculate the accuracy score of the model.\n",
    "\n",
    "* Generate a confusion matrix.\n",
    "\n",
    "* Print the classification report."
   ]
  },
  {
   "cell_type": "code",
   "execution_count": null,
   "metadata": {
    "colab": {
     "base_uri": "https://localhost:8080/"
    },
    "id": "qt6vC--r66Xz",
    "outputId": "d6795b2a-71fc-4e55-d7fc-f5b63d25bf32"
   },
   "outputs": [],
   "source": [
    "# Print the balanced_accuracy score of the model\n",
    "from sklearn.metrics import accuracy_score\n",
    "balanced_accuracy_score(y_test, predictions)"
   ]
  },
  {
   "cell_type": "code",
   "execution_count": null,
   "metadata": {
    "colab": {
     "base_uri": "https://localhost:8080/"
    },
    "id": "TZlih4F466Xz",
    "outputId": "b31cbded-16c4-41f9-fe2b-622906c5fd91"
   },
   "outputs": [],
   "source": [
    "# Generate a confusion matrix for the model\n",
    "from sklearn.metrics import confusion_matrix\n",
    "confusion_matrix(y_test, predictions)"
   ]
  },
  {
   "cell_type": "code",
   "execution_count": null,
   "metadata": {
    "colab": {
     "base_uri": "https://localhost:8080/"
    },
    "id": "WlzS0fgr66Xz",
    "outputId": "dfd8ba47-45b6-4fb8-b467-c4759a82e6b8"
   },
   "outputs": [],
   "source": [
    "# Print the classification report for the model\n",
    "from sklearn.metrics import classification_report\n",
    "target_names = [\"Graduate\", \"Dropout\"]\n",
    "print(classification_report(y_test, predictions, target_names=target_names))"
   ]
  },
  {
   "cell_type": "markdown",
   "metadata": {
    "id": "QvaqAz9W66X0"
   },
   "source": [
    "### Step 4: Answer the following question."
   ]
  },
  {
   "cell_type": "markdown",
   "metadata": {
    "id": "0t7PSfLL66X0"
   },
   "source": [
    "**Question:** How well does the logistic regression model predict both the `0` (Graduate) and `1` (Dropout) labels using the 20/80 test/train split?\n",
    "\n",
    "**Answer:**Still Excellent at predicting Graduates (96% recall) in comparison to 25%/75% test/train split. The recall for dropouts has increased from 86% to 87%)."
   ]
  },
  {
   "cell_type": "markdown",
   "metadata": {
    "id": "oJHuvk9866X2"
   },
   "source": [
    "---"
   ]
  },
  {
   "cell_type": "markdown",
   "metadata": {
    "id": "PVsseQkR66X2"
   },
   "source": [
    "## Predict a Logistic Regression Model with Resampled Training Data"
   ]
  },
  {
   "cell_type": "markdown",
   "metadata": {
    "id": "LuJ2mI3V66X2"
   },
   "source": [
    "### Step 1: We used the `RandomOverSampler` module from the imbalanced-learn library to resample the data, thus ensuring that both our labels of graduate vs dropout had an equal number of data points."
   ]
  },
  {
   "cell_type": "code",
   "execution_count": null,
   "metadata": {
    "id": "CPyZdX-l66X2"
   },
   "outputs": [],
   "source": [
    "# Import the RandomOverSampler module form imbalanced-learn\n",
    "from imblearn.over_sampling import RandomOverSampler\n",
    "\n",
    "# Instantiate the random oversampler model\n",
    "# # Assign a random_state parameter of 1 to the model\n",
    "oversample = RandomOverSampler(sampling_strategy='minority')\n",
    "\n",
    "# Fit the original training data to the random_oversampler model\n",
    "X_over, y_over = oversample.fit_resample(X_train, y_train)"
   ]
  },
  {
   "cell_type": "code",
   "execution_count": null,
   "metadata": {
    "colab": {
     "base_uri": "https://localhost:8080/"
    },
    "id": "fCxUxOWZ66X2",
    "outputId": "177c479f-ed8c-42b5-f47f-314f4523adec"
   },
   "outputs": [],
   "source": [
    "# Count the distinct values of the resampled labels data\n",
    "y_over.value_counts()\n"
   ]
  },
  {
   "cell_type": "code",
   "execution_count": null,
   "metadata": {
    "id": "BGsVr2Ox66X3"
   },
   "outputs": [],
   "source": [
    "# so now we have taken equal number of samples from both healthy and high risk loans"
   ]
  },
  {
   "cell_type": "code",
   "execution_count": null,
   "metadata": {
    "colab": {
     "base_uri": "https://localhost:8080/",
     "height": 588
    },
    "id": "2TOKNvBv66X4",
    "outputId": "a187a59a-9f14-4ca0-b763-fea7544fb8aa"
   },
   "outputs": [],
   "source": [
    "# Instantiate the Logistic Regression model\n",
    "# Assign a random_state parameter of 1 to the model\n",
    "\n",
    "classifier_rebalanced = LogisticRegression(solver='lbfgs', random_state=1)\n",
    "\n",
    "\n",
    "# Fit the model using the resampled training data\n",
    "classifier_rebalanced.fit(X_over, y_over)\n",
    "\n",
    "# Make a prediction using the testing data\n",
    "\n",
    "predictions_rebalanced = classifier_rebalanced.predict(X_test)\n",
    "pd.DataFrame({\"Prediction\": predictions_rebalanced, \"Actual\": y_test})\n",
    "\n",
    "\n",
    "\n"
   ]
  },
  {
   "cell_type": "markdown",
   "metadata": {
    "id": "s79Dd0b566X3"
   },
   "source": [
    "### Step 2: We usd the `LogisticRegression` classifier and the resampled data to fit the model and make predictions."
   ]
  },
  {
   "cell_type": "markdown",
   "metadata": {
    "id": "pb_baWVT66X5"
   },
   "source": [
    "### Step 3: Evaluate the model’s performance by doing the following:\n",
    "\n",
    "* Calculate the accuracy score of the model.\n",
    "\n",
    "* Generate a confusion matrix.\n",
    "\n",
    "* Print the classification report."
   ]
  },
  {
   "cell_type": "code",
   "execution_count": null,
   "metadata": {
    "colab": {
     "base_uri": "https://localhost:8080/"
    },
    "id": "y_pILaAO66X5",
    "outputId": "5a0fdaac-bef5-48b1-82a9-be461c00cbcf"
   },
   "outputs": [],
   "source": [
    "# Print the balanced_accuracy score of the model\n",
    "from sklearn.metrics import accuracy_score\n",
    "balanced_accuracy_score(y_test, predictions_rebalanced)"
   ]
  },
  {
   "cell_type": "code",
   "execution_count": null,
   "metadata": {
    "colab": {
     "base_uri": "https://localhost:8080/"
    },
    "id": "GQdpzQ8R66X7",
    "outputId": "ea42b829-e6c1-4f0c-f2bb-766e5ef2e48f"
   },
   "outputs": [],
   "source": [
    "# Generate a confusion matrix for the model\n",
    "from sklearn.metrics import confusion_matrix\n",
    "confusion_matrix(y_test, predictions_rebalanced)"
   ]
  },
  {
   "cell_type": "code",
   "execution_count": null,
   "metadata": {
    "colab": {
     "base_uri": "https://localhost:8080/"
    },
    "id": "OCzeX4CW66YE",
    "outputId": "45815380-366f-49b2-db0e-2869bcb19b29"
   },
   "outputs": [],
   "source": [
    "# Print the classification report for the model\n",
    "\n",
    "from sklearn.metrics import classification_report\n",
    "target_names = [\"Graduate\", \"Dropout\"]\n",
    "print(classification_report(y_test, predictions_rebalanced, target_names=target_names))"
   ]
  },
  {
   "cell_type": "markdown",
   "metadata": {
    "id": "HxFrKRG566YF"
   },
   "source": [
    "### Step 4: We answered the following question"
   ]
  },
  {
   "cell_type": "markdown",
   "metadata": {
    "id": "Ub5UXdcU66YF"
   },
   "source": [
    "**Question:** How well does the logistic regression model, fit with oversampled data, predict both the `0` (graduate) and `1` (dropout) labels usign the 20/80 test/train split?\n",
    "\n",
    "**Answer:** When using the oversampled data of the dropouts, the overall accuracy has remianed the same at 92%, however the recall for the dropout label has increased from 88% to 90% a."
   ]
  },
  {
   "cell_type": "markdown",
   "metadata": {
    "id": "TWYhDICjHLFn"
   },
   "source": [
    "Use Random Forest to determine which Features are important in the model."
   ]
  },
  {
   "cell_type": "code",
   "execution_count": null,
   "metadata": {
    "colab": {
     "base_uri": "https://localhost:8080/",
     "height": 74
    },
    "id": "bDNIKu1iDLVc",
    "outputId": "a773a502-0e0c-4600-db95-d6ed0eae514f"
   },
   "outputs": [],
   "source": [
    "from sklearn.ensemble import RandomForestClassifier\n",
    "\n",
    "feature_names = [f\"feature {i}\" for i in range(X.shape[1])]\n",
    "forest = RandomForestClassifier(random_state=0)\n",
    "forest.fit(X_over, y_over)"
   ]
  },
  {
   "cell_type": "code",
   "execution_count": null,
   "metadata": {
    "colab": {
     "base_uri": "https://localhost:8080/"
    },
    "id": "LJg3vb5rD7Vm",
    "outputId": "11df58d4-9c6c-4bc8-a9c0-1a0db98df89c"
   },
   "outputs": [],
   "source": [
    "X.columns"
   ]
  },
  {
   "cell_type": "code",
   "execution_count": null,
   "metadata": {
    "colab": {
     "base_uri": "https://localhost:8080/",
     "height": 487
    },
    "id": "-ZoO_DUzDaJH",
    "outputId": "6eb08d33-fb72-4303-bbe3-cce96a6bd8e7"
   },
   "outputs": [],
   "source": [
    "importances = forest.feature_importances_\n",
    "std = np.std([tree.feature_importances_ for tree in forest.estimators_], axis=0)\n",
    "forest_importances = pd.Series(importances, index=X.columns)\n",
    "\n",
    "fig, ax = plt.subplots()\n",
    "forest_importances.plot.bar(yerr=std, ax=ax)\n",
    "ax.set_title(\"Feature importances using MDI\")\n",
    "ax.set_ylabel(\"Mean decrease in impurity\")\n",
    "fig.tight_layout()"
   ]
  },
  {
   "cell_type": "markdown",
   "metadata": {
    "id": "eZrq3LiXHVPR"
   },
   "source": [
    "Remove all the curricular units from the dataset and retrain the model to determine whether accuracy improves."
   ]
  },
  {
   "cell_type": "markdown",
   "metadata": {
    "id": "QaMdHLUlFDaE"
   },
   "source": [
    "#we are usign random forest to bring in the important feature, so things which we think are important can be removed and we can retrain the model. Only remove one at a time. Those features with the  \n",
    "#after this bring in the deep learning code."
   ]
  },
  {
   "cell_type": "markdown",
   "metadata": {
    "id": "xDhDeWwaKNsz"
   },
   "source": [
    "We retrained the model using a test/train split of 80/20 and the RandomOverSample module."
   ]
  },
  {
   "cell_type": "markdown",
   "metadata": {
    "id": "Y3Fg-EZPENWB"
   },
   "source": [
    "Feature 26"
   ]
  },
  {
   "cell_type": "code",
   "execution_count": null,
   "metadata": {},
   "outputs": [],
   "source": []
  }
 ],
 "metadata": {
  "colab": {
   "include_colab_link": true,
   "provenance": []
  },
  "kernelspec": {
   "display_name": "Python 3 (ipykernel)",
   "language": "python",
   "name": "python3"
  },
  "language_info": {
   "codemirror_mode": {
    "name": "ipython",
    "version": 3
   },
   "file_extension": ".py",
   "mimetype": "text/x-python",
   "name": "python",
   "nbconvert_exporter": "python",
   "pygments_lexer": "ipython3",
   "version": "3.10.11"
  },
  "vscode": {
   "interpreter": {
    "hash": "31f2aee4e71d21fbe5cf8b01ff0e069b9275f58929596ceb00d14d90e3e16cd6"
   }
  }
 },
 "nbformat": 4,
 "nbformat_minor": 1
}
