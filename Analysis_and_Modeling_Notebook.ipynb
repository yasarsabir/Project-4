{
 "cells": [
  {
   "cell_type": "code",
   "execution_count": null,
   "id": "e70d0e7c",
   "metadata": {},
   "outputs": [],
   "source": [
    "\n",
    "import pandas as pd\n",
    "\n",
    "# Load the data from the CSV file\n",
    "student_data_df = pd.read_csv('datacleaned.csv', encoding='ISO-8859-1')\n"
   ]
  },
  {
   "cell_type": "code",
   "execution_count": null,
   "id": "6081e052",
   "metadata": {},
   "outputs": [],
   "source": [
    "\n",
    "from scipy.stats import zscore\n",
    "import numpy as np\n",
    "import pandas as pd\n",
    "\n",
    "def remove_outliers(df, threshold=3):\n",
    "    \"\"\"Removes outliers from a dataframe based on Z-scores.\"\"\"\n",
    "    z_scores = np.abs(zscore(df.select_dtypes(include=[np.number])))\n",
    "    no_outliers = (z_scores < threshold).all(axis=1)\n",
    "    return df[no_outliers]\n",
    "    "
   ]
  },
  {
   "cell_type": "code",
   "execution_count": null,
   "id": "9063b272",
   "metadata": {},
   "outputs": [],
   "source": [
    "\n",
    "student_data_cleaned = remove_outliers(student_data_df)\n",
    "    "
   ]
  },
  {
   "cell_type": "code",
   "execution_count": null,
   "id": "cb1d9ee3",
   "metadata": {},
   "outputs": [],
   "source": [
    "\n",
    "from sklearn.preprocessing import StandardScaler, OneHotEncoder\n",
    "from sklearn.compose import ColumnTransformer\n",
    "\n",
    "numerical_cols = student_data_cleaned.select_dtypes(include=[np.number]).columns.tolist()\n",
    "categorical_cols = student_data_cleaned.select_dtypes(exclude=[np.number]).columns.tolist()\n",
    "categorical_cols.remove('Target')\n",
    "\n",
    "transformers = [\n",
    "    ('num', StandardScaler(), numerical_cols),\n",
    "    ('cat', OneHotEncoder(drop='first'), categorical_cols)\n",
    "]\n",
    "\n",
    "preprocessor = ColumnTransformer(transformers, remainder='passthrough')\n",
    "X = student_data_cleaned.drop('Target', axis=1)\n",
    "y = student_data_cleaned['Target']\n",
    "X_transformed = preprocessor.fit_transform(X)\n",
    "    "
   ]
  },
  {
   "cell_type": "code",
   "execution_count": null,
   "id": "cb74dec1",
   "metadata": {},
   "outputs": [],
   "source": [
    "\n",
    "from sklearn.model_selection import train_test_split\n",
    "\n",
    "X_train, X_test, y_train, y_test = train_test_split(X_transformed, y, test_size=0.2, random_state=42)\n",
    "    "
   ]
  },
  {
   "cell_type": "code",
   "execution_count": null,
   "id": "afaec3c7",
   "metadata": {},
   "outputs": [],
   "source": [
    "\n",
    "from sklearn.linear_model import LogisticRegression\n",
    "from sklearn.metrics import balanced_accuracy_score, confusion_matrix, classification_report\n",
    "\n",
    "logreg = LogisticRegression(max_iter=1000, random_state=42)\n",
    "logreg.fit(X_train, y_train)\n",
    "y_pred = logreg.predict(X_test)\n",
    "    "
   ]
  },
  {
   "cell_type": "code",
   "execution_count": null,
   "id": "7663cb49",
   "metadata": {},
   "outputs": [],
   "source": [
    "\n",
    "from sklearn.utils import resample\n",
    "\n",
    "dropout = student_data_cleaned[student_data_cleaned['Target'] == 'Dropout']\n",
    "enrolled = student_data_cleaned[student_data_cleaned['Target'] == 'Enrolled']\n",
    "graduate = student_data_cleaned[student_data_cleaned['Target'] == 'Graduate']\n",
    "\n",
    "dropout_upsampled = resample(dropout, replace=True, n_samples=len(graduate), random_state=42)\n",
    "enrolled_upsampled = resample(enrolled, replace=True, n_samples=len(graduate), random_state=42)\n",
    "\n",
    "upsampled = pd.concat([dropout_upsampled, enrolled_upsampled, graduate])\n",
    "\n",
    "X_upsampled = upsampled.drop('Target', axis=1)\n",
    "y_upsampled = upsampled['Target']\n",
    "\n",
    "X_upsampled_transformed = preprocessor.transform(X_upsampled)\n",
    "X_train_up, X_test_up, y_train_up, y_test_up = train_test_split(X_upsampled_transformed, y_upsampled, test_size=0.2, random_state=42)\n",
    "    "
   ]
  },
  {
   "cell_type": "code",
   "execution_count": null,
   "id": "b9c36ec9",
   "metadata": {},
   "outputs": [],
   "source": [
    "\n",
    "logreg_up = LogisticRegression(max_iter=1000, random_state=42)\n",
    "logreg_up.fit(X_train_up, y_train_up)\n",
    "y_pred_up = logreg_up.predict(X_test_up)\n",
    "    "
   ]
  },
  {
   "cell_type": "code",
   "execution_count": null,
   "id": "8ce35c13",
   "metadata": {},
   "outputs": [],
   "source": [
    "\n",
    "from sklearn.ensemble import RandomForestClassifier\n",
    "\n",
    "rf = RandomForestClassifier(random_state=42)\n",
    "rf.fit(X_train_up, y_train_up)\n",
    "y_pred_rf = rf.predict(X_test_up)\n",
    "    "
   ]
  }
 ],
 "metadata": {},
 "nbformat": 4,
 "nbformat_minor": 5
}
