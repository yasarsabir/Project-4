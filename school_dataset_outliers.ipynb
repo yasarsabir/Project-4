{
 "cells": [
  {
   "cell_type": "code",
   "execution_count": 18,
   "id": "de087a7e",
   "metadata": {},
   "outputs": [],
   "source": [
    "import pandas as pd\n",
    "import numpy as np\n",
    "from scipy.stats import zscore"
   ]
  },
  {
   "cell_type": "code",
   "execution_count": 19,
   "id": "81cd16df",
   "metadata": {},
   "outputs": [],
   "source": [
    "#dataframe = pd.read_csv(\"Resources/datacleaned.csv\")\n",
    "student_data_df = pd.read_csv(\"Resources/datacleaned.csv\", encoding=\"ISO-8859-1\")\n"
   ]
  },
  {
   "cell_type": "code",
   "execution_count": 20,
   "id": "8953df2a",
   "metadata": {},
   "outputs": [],
   "source": [
    "column_names_as_rows = pd.Series(student_data_df.columns)"
   ]
  },
  {
   "cell_type": "code",
   "execution_count": 21,
   "id": "d75bec75",
   "metadata": {},
   "outputs": [],
   "source": [
    "column_data_types = student_data_df.dtypes"
   ]
  },
  {
   "cell_type": "code",
   "execution_count": 22,
   "id": "33e37523",
   "metadata": {},
   "outputs": [],
   "source": [
    "# Function to remove outliers based on Z-scores\n",
    "# a z-score is a measure of how many standard deviations a particular data point is from the mean of a set of data\n",
    "from scipy.stats import zscore\n",
    "def remove_outliers(df, threshold=3):\n",
    "    # Calculate Z-scores for numerical columns\n",
    "    z_scores = np.abs(zscore(df.select_dtypes(include=[np.number])))\n",
    "    # filter rows where all numerical values are not outliers\n",
    "    no_outliers = (z_scores < threshold).all(axis=1)\n",
    "    return df[no_outliers]\n"
   ]
  },
  {
   "cell_type": "code",
   "execution_count": 24,
   "id": "b4653959",
   "metadata": {},
   "outputs": [
    {
     "name": "stdout",
     "output_type": "stream",
     "text": [
      "original data shape: (4424, 35)\n",
      "data shape after outlier removal: (3914, 35)\n"
     ]
    }
   ],
   "source": [
    "# Remove outliers\n",
    "student_data_cleaned = remove_outliers(student_data_df)\n",
    "print(f\"original data shape: {student_data_df.shape}\")\n",
    "print(f\"data shape after outlier removal: {student_data_cleaned.shape}\")\n"
   ]
  },
  {
   "cell_type": "code",
   "execution_count": null,
   "id": "d85381b7",
   "metadata": {},
   "outputs": [],
   "source": []
  },
  {
   "cell_type": "code",
   "execution_count": null,
   "id": "f34881b6",
   "metadata": {},
   "outputs": [],
   "source": []
  },
  {
   "cell_type": "code",
   "execution_count": null,
   "id": "9c466f50",
   "metadata": {},
   "outputs": [],
   "source": []
  },
  {
   "cell_type": "code",
   "execution_count": null,
   "id": "40e58514",
   "metadata": {},
   "outputs": [],
   "source": []
  }
 ],
 "metadata": {
  "kernelspec": {
   "display_name": "Python 3 (ipykernel)",
   "language": "python",
   "name": "python3"
  },
  "language_info": {
   "codemirror_mode": {
    "name": "ipython",
    "version": 3
   },
   "file_extension": ".py",
   "mimetype": "text/x-python",
   "name": "python",
   "nbconvert_exporter": "python",
   "pygments_lexer": "ipython3",
   "version": "3.10.11"
  }
 },
 "nbformat": 4,
 "nbformat_minor": 5
}
